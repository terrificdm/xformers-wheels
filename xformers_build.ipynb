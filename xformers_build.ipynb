{
 "cells": [
  {
   "cell_type": "code",
   "execution_count": null,
   "id": "53871fbb-72d9-4fe4-9a37-3f5a37cb04b5",
   "metadata": {},
   "outputs": [],
   "source": [
    "!git clone https://github.com/facebookresearch/xformers.git\n",
    "%cd xformers\n",
    "!git submodule update --init --recursive\n",
    "!python -m venv venv\n",
    "!source ./venv/bin/activate"
   ]
  },
  {
   "cell_type": "code",
   "execution_count": null,
   "id": "c231928c-6c0e-4136-8d9c-0b37200dd35d",
   "metadata": {},
   "outputs": [],
   "source": [
    "!pip install -U torch==1.13.0+cu117 -f https://download.pytorch.org/whl/torch_stable.html"
   ]
  },
  {
   "cell_type": "code",
   "execution_count": null,
   "id": "a305bafe-b8e4-4527-9a8d-195200ad3cc1",
   "metadata": {},
   "outputs": [],
   "source": [
    "!pip install torchvision==0.14.0"
   ]
  },
  {
   "cell_type": "code",
   "execution_count": null,
   "id": "11474a2e-0ed4-4803-89a7-860bd61e6d3a",
   "metadata": {},
   "outputs": [],
   "source": [
    "!pip install -r requirements.txt\n",
    "!pip install wheel"
   ]
  },
  {
   "cell_type": "code",
   "execution_count": null,
   "id": "be7bfc96-f82f-4d0e-9d3f-3993b4dc6894",
   "metadata": {},
   "outputs": [],
   "source": [
    "!python setup.py build\n",
    "!python setup.py bdist_wheel"
   ]
  },
  {
   "cell_type": "code",
   "execution_count": null,
   "id": "3b7990c9",
   "metadata": {},
   "outputs": [],
   "source": [
    "!ls ./dist/"
   ]
  }
 ],
 "metadata": {
  "kernelspec": {
   "display_name": "conda_python3",
   "language": "python",
   "name": "conda_python3"
  },
  "language_info": {
   "codemirror_mode": {
    "name": "ipython",
    "version": 3
   },
   "file_extension": ".py",
   "mimetype": "text/x-python",
   "name": "python",
   "nbconvert_exporter": "python",
   "pygments_lexer": "ipython3",
   "version": "3.10.6"
  }
 },
 "nbformat": 4,
 "nbformat_minor": 5
}
